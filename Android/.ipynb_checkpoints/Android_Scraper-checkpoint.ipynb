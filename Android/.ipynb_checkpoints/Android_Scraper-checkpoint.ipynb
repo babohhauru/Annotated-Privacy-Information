{
 "cells": [
  {
   "cell_type": "code",
   "execution_count": 1,
   "id": "38ed3464",
   "metadata": {},
   "outputs": [],
   "source": [
    "from bs4 import BeautifulSoup\n",
    "import time, re, json\n",
    "import requests\n",
    "import http.client\n",
    "import mysql.connector"
   ]
  },
  {
   "cell_type": "code",
   "execution_count": 2,
   "id": "dd5786bd",
   "metadata": {},
   "outputs": [],
   "source": [
    "mydb = mysql.connector.connect(\n",
    "  host=\"localhost\",\n",
    "  user=\"root\",\n",
    "  password=\"violet\",\n",
    "  database=\"appinfo\"\n",
    ")"
   ]
  },
  {
   "cell_type": "code",
   "execution_count": 3,
   "id": "110c575c",
   "metadata": {},
   "outputs": [],
   "source": [
    "mycursor = mydb.cursor()\n",
    "\n",
    "sql = '''CREATE TABLE IF NOT EXISTS android_app_data (\n",
    "    id int primary key auto_increment,\n",
    "    app_name text,\n",
    "    data_shared text,\n",
    "    data_collected text,\n",
    "    security_practices text,\n",
    "    no_data_collected text,\n",
    "    no_data_shared_with_third_parties text\n",
    ")\n",
    "'''\n",
    "\n",
    "mycursor.execute(sql)\n",
    "mydb.commit()"
   ]
  },
  {
   "cell_type": "code",
   "execution_count": 6,
   "id": "fa97a6e3",
   "metadata": {},
   "outputs": [
    {
     "ename": "SyntaxError",
     "evalue": "invalid syntax. Perhaps you forgot a comma? (1266167014.py, line 12)",
     "output_type": "error",
     "traceback": [
      "\u001b[1;36m  Cell \u001b[1;32mIn [6], line 12\u001b[1;36m\u001b[0m\n\u001b[1;33m    print(\"Xx\"x)\u001b[0m\n\u001b[1;37m          ^\u001b[0m\n\u001b[1;31mSyntaxError\u001b[0m\u001b[1;31m:\u001b[0m invalid syntax. Perhaps you forgot a comma?\n"
     ]
    }
   ],
   "source": [
    "with open('android.txt','r',encoding='utf-8') as f:\n",
    "    urllst = f.readlines()\n",
    "    #print(urllst)\n",
    "       \n",
    "for urls in urllst :\n",
    "    #print(urls)\n",
    "    #print(re.findall(r\"=(.+)\",urls))\n",
    "    page = requests.get(urls)\n",
    "    soup = BeautifulSoup(page.text, \"html.parser\")\n",
    "  \n",
    "    for x in soup.findAll('h1',class_='Fd93Bb ynrBgc xwcR9d'):\n",
    "        print(\"Xx\"+ x)\n",
    "\n",
    "    mycursor = mydb.cursor()\n",
    "\n",
    "    sql = '''INSERT INTO android_app_data (\n",
    "        app_name text,\n",
    "        data_shared text,\n",
    "        data_collected text,\n",
    "        security_practices text,\n",
    "        no_data_collected text,\n",
    "        no_data_shared_with_third_parties text\n",
    "    )\n",
    "    '''\n",
    "    sql = \"INSERT INTO android_app_data (app_name,data_shared,data_collected,security_practices, no_data_collected,no_data_shared_with_third_parties ) VALUES (%s, %s, %s, %s, %s, %s)\"\n",
    "    #val = (app_name, data_shared, data_collected, security_practices, no_data_collected, no_data_shared_with_third_parties)\n",
    "    val = (\"?\", \"?\", \"?\", \"?\", \"?\", \"?\")\n",
    "    mycursor.execute(sql, val)\n",
    "    mydb.commit()"
   ]
  },
  {
   "cell_type": "code",
   "execution_count": null,
   "id": "97f0ddc8",
   "metadata": {},
   "outputs": [],
   "source": []
  }
 ],
 "metadata": {
  "kernelspec": {
   "display_name": "Python 3 (ipykernel)",
   "language": "python",
   "name": "python3"
  },
  "language_info": {
   "codemirror_mode": {
    "name": "ipython",
    "version": 3
   },
   "file_extension": ".py",
   "mimetype": "text/x-python",
   "name": "python",
   "nbconvert_exporter": "python",
   "pygments_lexer": "ipython3",
   "version": "3.10.7"
  }
 },
 "nbformat": 4,
 "nbformat_minor": 5
}
